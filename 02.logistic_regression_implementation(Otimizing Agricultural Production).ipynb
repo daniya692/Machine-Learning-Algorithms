{
 "cells": [
  {
   "cell_type": "code",
   "execution_count": 52,
   "id": "53ecd629",
   "metadata": {},
   "outputs": [],
   "source": [
    "import numpy as np\n",
    "import pandas as pd\n",
    "\n",
    "import matplotlib.pyplot as plt\n",
    "\n",
    "import seaborn as sns\n",
    "\n",
    "from ipywidgets import interact"
   ]
  },
  {
   "cell_type": "code",
   "execution_count": 7,
   "id": "f6ee60d1",
   "metadata": {},
   "outputs": [],
   "source": [
    "data = pd.read_csv('Crop_recommendation.csv')"
   ]
  },
  {
   "cell_type": "code",
   "execution_count": 10,
   "id": "90132651",
   "metadata": {},
   "outputs": [
    {
     "data": {
      "text/html": [
       "<div>\n",
       "<style scoped>\n",
       "    .dataframe tbody tr th:only-of-type {\n",
       "        vertical-align: middle;\n",
       "    }\n",
       "\n",
       "    .dataframe tbody tr th {\n",
       "        vertical-align: top;\n",
       "    }\n",
       "\n",
       "    .dataframe thead th {\n",
       "        text-align: right;\n",
       "    }\n",
       "</style>\n",
       "<table border=\"1\" class=\"dataframe\">\n",
       "  <thead>\n",
       "    <tr style=\"text-align: right;\">\n",
       "      <th></th>\n",
       "      <th>N</th>\n",
       "      <th>P</th>\n",
       "      <th>K</th>\n",
       "      <th>temperature</th>\n",
       "      <th>humidity</th>\n",
       "      <th>ph</th>\n",
       "      <th>rainfall</th>\n",
       "      <th>label</th>\n",
       "    </tr>\n",
       "  </thead>\n",
       "  <tbody>\n",
       "    <tr>\n",
       "      <th>0</th>\n",
       "      <td>90</td>\n",
       "      <td>42</td>\n",
       "      <td>43</td>\n",
       "      <td>20.879744</td>\n",
       "      <td>82.002744</td>\n",
       "      <td>6.502985</td>\n",
       "      <td>202.935536</td>\n",
       "      <td>rice</td>\n",
       "    </tr>\n",
       "    <tr>\n",
       "      <th>1</th>\n",
       "      <td>85</td>\n",
       "      <td>58</td>\n",
       "      <td>41</td>\n",
       "      <td>21.770462</td>\n",
       "      <td>80.319644</td>\n",
       "      <td>7.038096</td>\n",
       "      <td>226.655537</td>\n",
       "      <td>rice</td>\n",
       "    </tr>\n",
       "    <tr>\n",
       "      <th>2</th>\n",
       "      <td>60</td>\n",
       "      <td>55</td>\n",
       "      <td>44</td>\n",
       "      <td>23.004459</td>\n",
       "      <td>82.320763</td>\n",
       "      <td>7.840207</td>\n",
       "      <td>263.964248</td>\n",
       "      <td>rice</td>\n",
       "    </tr>\n",
       "    <tr>\n",
       "      <th>3</th>\n",
       "      <td>74</td>\n",
       "      <td>35</td>\n",
       "      <td>40</td>\n",
       "      <td>26.491096</td>\n",
       "      <td>80.158363</td>\n",
       "      <td>6.980401</td>\n",
       "      <td>242.864034</td>\n",
       "      <td>rice</td>\n",
       "    </tr>\n",
       "    <tr>\n",
       "      <th>4</th>\n",
       "      <td>78</td>\n",
       "      <td>42</td>\n",
       "      <td>42</td>\n",
       "      <td>20.130175</td>\n",
       "      <td>81.604873</td>\n",
       "      <td>7.628473</td>\n",
       "      <td>262.717340</td>\n",
       "      <td>rice</td>\n",
       "    </tr>\n",
       "  </tbody>\n",
       "</table>\n",
       "</div>"
      ],
      "text/plain": [
       "    N   P   K  temperature   humidity        ph    rainfall label\n",
       "0  90  42  43    20.879744  82.002744  6.502985  202.935536  rice\n",
       "1  85  58  41    21.770462  80.319644  7.038096  226.655537  rice\n",
       "2  60  55  44    23.004459  82.320763  7.840207  263.964248  rice\n",
       "3  74  35  40    26.491096  80.158363  6.980401  242.864034  rice\n",
       "4  78  42  42    20.130175  81.604873  7.628473  262.717340  rice"
      ]
     },
     "execution_count": 10,
     "metadata": {},
     "output_type": "execute_result"
    }
   ],
   "source": [
    "data.head()\n"
   ]
  },
  {
   "cell_type": "code",
   "execution_count": 11,
   "id": "8af65cfc",
   "metadata": {},
   "outputs": [
    {
     "data": {
      "text/plain": [
       "(2200, 8)"
      ]
     },
     "execution_count": 11,
     "metadata": {},
     "output_type": "execute_result"
    }
   ],
   "source": [
    "data.shape"
   ]
  },
  {
   "cell_type": "code",
   "execution_count": 17,
   "id": "3dd2fc18",
   "metadata": {},
   "outputs": [
    {
     "data": {
      "text/plain": [
       "N              0\n",
       "P              0\n",
       "K              0\n",
       "temperature    0\n",
       "humidity       0\n",
       "ph             0\n",
       "rainfall       0\n",
       "label          0\n",
       "dtype: int64"
      ]
     },
     "execution_count": 17,
     "metadata": {},
     "output_type": "execute_result"
    }
   ],
   "source": [
    "data.isnull().sum()"
   ]
  },
  {
   "cell_type": "code",
   "execution_count": 18,
   "id": "08a566ff",
   "metadata": {},
   "outputs": [
    {
     "data": {
      "text/plain": [
       "rice           100\n",
       "maize          100\n",
       "jute           100\n",
       "cotton         100\n",
       "coconut        100\n",
       "papaya         100\n",
       "orange         100\n",
       "apple          100\n",
       "muskmelon      100\n",
       "watermelon     100\n",
       "grapes         100\n",
       "mango          100\n",
       "banana         100\n",
       "pomegranate    100\n",
       "lentil         100\n",
       "blackgram      100\n",
       "mungbean       100\n",
       "mothbeans      100\n",
       "pigeonpeas     100\n",
       "kidneybeans    100\n",
       "chickpea       100\n",
       "coffee         100\n",
       "Name: label, dtype: int64"
      ]
     },
     "execution_count": 18,
     "metadata": {},
     "output_type": "execute_result"
    }
   ],
   "source": [
    "data['label'].value_counts()"
   ]
  },
  {
   "cell_type": "code",
   "execution_count": 19,
   "id": "0d3b213d",
   "metadata": {},
   "outputs": [
    {
     "name": "stdout",
     "output_type": "stream",
     "text": [
      "Average Ratio of Nitrogen in the soil : 50.55\n",
      "Average Ratio of Phosphorous in the soil : 53.36\n",
      "Average Ratio of Potassium in the soil : 48.15\n",
      "Average Tempreture in Celsius : 25.62\n",
      "Average relative Humidity in % : 71.48\n",
      "Average PH Value of the soil : 6.47\n",
      "Average Rainfall in mm : 103.46\n"
     ]
    }
   ],
   "source": [
    "print('Average Ratio of Nitrogen in the soil : {0:.2f}'.format(data['N'].mean()))\n",
    "\n",
    "print('Average Ratio of Phosphorous in the soil : {0:.2f}'.format(data['P'].mean()))\n",
    "\n",
    "print('Average Ratio of Potassium in the soil : {0:.2f}'.format(data['K'].mean()))\n",
    "\n",
    "print('Average Tempreture in Celsius : {0:.2f}'.format(data['temperature'].mean()))\n",
    "\n",
    "print('Average relative Humidity in % : {0:.2f}'.format(data['humidity'].mean()))\n",
    "\n",
    "print('Average PH Value of the soil : {0:.2f}'.format(data['ph'].mean()))\n",
    "\n",
    "print('Average Rainfall in mm : {0:.2f}'.format(data['rainfall'].mean()))"
   ]
  },
  {
   "cell_type": "code",
   "execution_count": 28,
   "id": "37aa3b98",
   "metadata": {},
   "outputs": [
    {
     "data": {
      "application/vnd.jupyter.widget-view+json": {
       "model_id": "ee01724b3edc4efaa759e8108bae2d69",
       "version_major": 2,
       "version_minor": 0
      },
      "text/plain": [
       "interactive(children=(Dropdown(description='crops', options=('rice', 'maize', 'jute', 'cotton', 'coconut', 'pa…"
      ]
     },
     "metadata": {},
     "output_type": "display_data"
    }
   ],
   "source": [
    "@interact\n",
    "def summary(crops = list(data['label'].value_counts().index)):\n",
    "    x = data[data['label'] == crops]\n",
    "    print(\"---------------------------------------------------\")\n",
    "    print('Statistics for Nitrogen')\n",
    "    print('Mini N required:', x['N'].min())\n",
    "    print('Avg N requires:', x['N'].mean())\n",
    "    print('Max N required:', x['N'].max())\n",
    "    \n",
    "    print('---------------------------------------------------')\n",
    "    print('Statistics for Phosphosrous')\n",
    "    print('Mini P required:', x['P'].min())\n",
    "    print('Avg P requires:', x['P'].mean())\n",
    "    print('Max P required:', x['P'].max())\n",
    "    \n",
    "    print('---------------------------------------------------')\n",
    "    print('Statistics for Potassium')\n",
    "    print('Mini K required:', x['K'].min())\n",
    "    print('Avg K requires:', x['K'].mean())\n",
    "    print('Max K required:', x['K'].max())\n",
    "    \n",
    "    print('---------------------------------------------------')\n",
    "    print('Statistics for Temperature')\n",
    "    print('Mini Temp required: {0:2f}'.format(x['temperature'].min()))\n",
    "    print('Avg Temp requires:{0:2f}'.format(x['temperature'].mean()))\n",
    "    print('Max Temp required:{0:2f}'.format(x['temperature'].max()))\n",
    "    \n",
    "   \n",
    "    \n",
    "    print('---------------------------------------------------')\n",
    "    print('Statistics for Humidity')\n",
    "    print('Mini Humidity required: {0:2f}'.format(x['humidity'].min()))\n",
    "    print('Avg Humidity requires:{0:2f}'.format(x['humidity'].mean()))\n",
    "    print('Max Humidity required:{0:2f}'.format(x['humidity'].max()))\n",
    "    \n",
    "    print('---------------------------------------------------')\n",
    "    print('Statistics for PH')\n",
    "    print('Mini PH required: {0:2f}'.format(x['ph'].min()))\n",
    "    print('Avg PH requires:{0:2f}'.format(x['ph'].mean()))\n",
    "    print('Max PH required:{0:2f}'.format(x['ph'].max()))\n",
    "    \n",
    "    print('---------------------------------------------------')\n",
    "    print('Statistics for Rainfall')\n",
    "    print('Mini Rainfall required: {0:2f}'.format(x['rainfall'].min()))\n",
    "    print('Avg Rainfall requires:{0:2f}'.format(x['rainfall'].mean()))\n",
    "    print('Max Rainfall required:{0:2f}'.format(x['rainfall'].max()))\n",
    "    \n",
    "\n",
    "    \n",
    "    \n",
    "    \n",
    "    "
   ]
  },
  {
   "cell_type": "code",
   "execution_count": 33,
   "id": "b4a4aacd",
   "metadata": {},
   "outputs": [
    {
     "data": {
      "application/vnd.jupyter.widget-view+json": {
       "model_id": "2577b49515464dd78a18c83031fbdd02",
       "version_major": 2,
       "version_minor": 0
      },
      "text/plain": [
       "interactive(children=(Dropdown(description='conditions', options=('N', 'P', 'K', 'temperature', 'ph', 'humidit…"
      ]
     },
     "metadata": {},
     "output_type": "display_data"
    }
   ],
   "source": [
    "@interact\n",
    "def compare(conditions = ['N','P', 'K', 'temperature', 'ph', 'humidity', 'rainfall']):\n",
    "\n",
    "    print('Crops which require greater than average', conditions, '\\n')\n",
    "    print(data[data[conditions]>data[conditions].mean()]['label'].unique())\n",
    "\n",
    "    print('-------------------------------------------------------------')\n",
    "    print('Crops which requires less than average', conditions, '\\n')\n",
    "    print(data[data[conditions]<=data[conditions].mean()]['label'].unique())"
   ]
  },
  {
   "cell_type": "code",
   "execution_count": 38,
   "id": "c6e88d29",
   "metadata": {},
   "outputs": [
    {
     "name": "stdout",
     "output_type": "stream",
     "text": [
      "interesting Patterns\n",
      "-----------------------------------------------------------------\n",
      "Crops which requires very high Ratio of Nitrogen content in soil: ['cotton']\n",
      "Crops which requires very high Ratio of Phosphosrous content in soil: ['grapes' 'apple']\n",
      "Crops which requires very high Ratio of Potassium content in soil: ['grapes' 'apple']\n",
      "Crops which requires very high Rainfall: ['rice' 'papaya' 'coconut']\n",
      "Crops which requires very low Temperature: ['grapes']\n",
      "Crops which requires very high Temperature: ['grapes' 'papaya']\n",
      "Crops which requires very low Humidity: ['chickpea' 'kidneybeans']\n",
      "Crops which requires very low pH: ['mothbeans']\n",
      "Crops which requires very high pH: ['mothbeans']\n"
     ]
    }
   ],
   "source": [
    "print('interesting Patterns')\n",
    "\n",
    "print('-----------------------------------------------------------------')\n",
    "print('Crops which requires very high Ratio of Nitrogen content in soil:', data[data['N']>120]['label'].unique())\n",
    "print('Crops which requires very high Ratio of Phosphosrous content in soil:', data[data['P']>100]['label'].unique())\n",
    "print('Crops which requires very high Ratio of Potassium content in soil:', data[data['K']>200]['label'].unique())\n",
    "\n",
    "print('Crops which requires very high Rainfall:', data[data['rainfall']>200]['label'].unique())\n",
    "print('Crops which requires very low Temperature:', data[data['temperature']<10]['label'].unique())\n",
    "\n",
    "print('Crops which requires very high Temperature:', data[data['temperature']>40]['label'].unique())\n",
    "\n",
    "print('Crops which requires very low Humidity:', data[data['humidity']<20]['label'].unique())\n",
    "\n",
    "print('Crops which requires very low pH:', data[data['ph']<4]['label'].unique())\n",
    "\n",
    "print('Crops which requires very high pH:', data[data['ph']>9]['label'].unique())"
   ]
  },
  {
   "cell_type": "code",
   "execution_count": 40,
   "id": "18194df3",
   "metadata": {},
   "outputs": [
    {
     "name": "stdout",
     "output_type": "stream",
     "text": [
      "Summer Crops\n",
      "['pigeonpeas' 'mothbeans' 'blackgram' 'mango' 'grapes' 'orange' 'papaya']\n",
      "-------------------------------------------------------------------------\n",
      "Winter Crops\n",
      "['maize' 'pigeonpeas' 'lentil' 'pomegranate' 'grapes' 'orange']\n",
      "-------------------------------------------------------------------------\n",
      "Rainy Crops\n",
      "['rice' 'papaya' 'coconut']\n"
     ]
    }
   ],
   "source": [
    "print('Summer Crops')\n",
    "print(data[(data['temperature']>30) & (data['humidity']>50)]['label'].unique())\n",
    "\n",
    "print('-------------------------------------------------------------------------')\n",
    "\n",
    "print('Winter Crops')\n",
    "print(data[(data['temperature']<20) & (data['humidity']>30)]['label'].unique())\n",
    "\n",
    "print('-------------------------------------------------------------------------')\n",
    "\n",
    "print('Rainy Crops')\n",
    "print(data[(data['rainfall']>200) & (data['humidity']>30)]['label'].unique())"
   ]
  },
  {
   "cell_type": "code",
   "execution_count": 41,
   "id": "b07ed198",
   "metadata": {},
   "outputs": [
    {
     "name": "stdout",
     "output_type": "stream",
     "text": [
      "(2200, 7)\n"
     ]
    }
   ],
   "source": [
    "from sklearn.cluster import KMeans\n",
    "\n",
    "x=data.drop(['label'],axis=1)\n",
    "\n",
    "x=x.values\n",
    "\n",
    "print(x.shape)"
   ]
  },
  {
   "cell_type": "code",
   "execution_count": 44,
   "id": "86e86973",
   "metadata": {},
   "outputs": [
    {
     "data": {
      "image/png": "[encoded data removed]",
      "text/plain": [
       "<Figure size 720x288 with 1 Axes>"
      ]
     },
     "metadata": {
      "needs_background": "light"
     },
     "output_type": "display_data"
    }
   ],
   "source": [
    " # detemine the optimum no. of Clusters within the dataset\n",
    "    \n",
    "plt.rcParams['figure.figsize'] = (10, 4)\n",
    "\n",
    "wcss =[]\n",
    "for i in range(1, 11):\n",
    "    km = KMeans(n_clusters= i, init = 'k-means++', max_iter = 300, n_init = 10, random_state = 0)\n",
    "    km.fit(x)\n",
    "    wcss.append(km.inertia_)\n",
    "    \n",
    "#plot result\n",
    "\n",
    "plt.plot(range(1,11), wcss)\n",
    "plt.title( ' The Elbow Method', fontsize= 20)\n",
    "plt.xlabel('No. of Clusters')\n",
    "plt.ylabel('wcss')\n",
    "plt.show()"
   ]
  },
  {
   "cell_type": "code",
   "execution_count": 45,
   "id": "33b45719",
   "metadata": {},
   "outputs": [
    {
     "name": "stdout",
     "output_type": "stream",
     "text": [
      "Check the results after applying the K Means Clustering Analysis \n",
      "\n",
      "Crops in first cluster: ['maize' 'chickpea' 'kidneybeans' 'pigeonpeas' 'mothbeans' 'mungbean'\n",
      " 'blackgram' 'lentil' 'pomegranate' 'mango' 'orange' 'papaya' 'coconut']\n",
      "------------------------------------------------------------------\n",
      "Crops in second cluster: ['maize' 'banana' 'watermelon' 'muskmelon' 'papaya' 'cotton' 'coffee']\n",
      "------------------------------------------------------------------\n",
      "Crops in third cluster: ['grapes' 'apple']\n",
      "------------------------------------------------------------------\n",
      "Crops in fourth cluster: ['rice' 'pigeonpeas' 'papaya' 'coconut' 'jute' 'coffee']\n"
     ]
    }
   ],
   "source": [
    "# implemet the KMeans algo to perform Clustering Analysis\n",
    "\n",
    "km= KMeans(n_clusters= 4, init = 'k-means++', max_iter = 300, n_init = 10, random_state = 0)\n",
    "y_means = km.fit_predict(x)\n",
    "\n",
    "#find out the results\n",
    "a= data['label']\n",
    "y_means = pd.DataFrame(y_means)\n",
    "z = pd.concat([y_means, a], axis = 1)\n",
    "z = z.rename(columns= {0: 'cluster'})\n",
    "\n",
    "# clusters of each crops\n",
    "print('Check the results after applying the K Means Clustering Analysis \\n')\n",
    "\n",
    "print('Crops in first cluster:', z[z['cluster'] == 0]['label'].unique())\n",
    "print('------------------------------------------------------------------')\n",
    "\n",
    "print('Crops in second cluster:', z[z['cluster'] == 1]['label'].unique())\n",
    "print('------------------------------------------------------------------')\n",
    "\n",
    "print('Crops in third cluster:', z[z['cluster'] == 2]['label'].unique())\n",
    "print('------------------------------------------------------------------')\n",
    "\n",
    "print('Crops in fourth cluster:', z[z['cluster'] == 3]['label'].unique())\n"
   ]
  },
  {
   "cell_type": "code",
   "execution_count": 46,
   "id": "6e534fea",
   "metadata": {},
   "outputs": [
    {
     "name": "stdout",
     "output_type": "stream",
     "text": [
      "shape of x: (2200, 7)\n",
      "shape of y: (2200,)\n"
     ]
    }
   ],
   "source": [
    "y = data['label']\n",
    "x = data.drop(['label'], axis = 1)\n",
    "\n",
    "print('shape of x:', x.shape)\n",
    "\n",
    "print('shape of y:', y.shape)\n"
   ]
  },
  {
   "cell_type": "code",
   "execution_count": 48,
   "id": "36dfc4e7",
   "metadata": {},
   "outputs": [
    {
     "name": "stdout",
     "output_type": "stream",
     "text": [
      " Shape of x train: (1760, 7)\n",
      " Shape of y train: (1760,)\n",
      " Shape of x test: (440, 7)\n",
      " Shape of y test: (440,)\n"
     ]
    }
   ],
   "source": [
    "from sklearn.model_selection import train_test_split\n",
    "\n",
    "x_train, x_test, y_train, y_test = train_test_split(x, y, test_size = 0.2, random_state=0)\n",
    "\n",
    "print(' Shape of x train:', x_train.shape)\n",
    "print(' Shape of y train:', y_train.shape)\n",
    "\n",
    "print(' Shape of x test:', x_test.shape)\n",
    "print(' Shape of y test:', y_test.shape)"
   ]
  },
  {
   "cell_type": "code",
   "execution_count": 50,
   "id": "01bc5204",
   "metadata": {},
   "outputs": [
    {
     "name": "stderr",
     "output_type": "stream",
     "text": [
      "C:\\Users\\Daniya\\Anaconda3\\lib\\site-packages\\sklearn\\linear_model\\_logistic.py:444: ConvergenceWarning: lbfgs failed to converge (status=1):\n",
      "STOP: TOTAL NO. of ITERATIONS REACHED LIMIT.\n",
      "\n",
      "Increase the number of iterations (max_iter) or scale the data as shown in:\n",
      "    https://scikit-learn.org/stable/modules/preprocessing.html\n",
      "Please also refer to the documentation for alternative solver options:\n",
      "    https://scikit-learn.org/stable/modules/linear_model.html#logistic-regression\n",
      "  n_iter_i = _check_optimize_result(\n"
     ]
    }
   ],
   "source": [
    "#create predective model\n",
    "\n",
    "from sklearn.linear_model import LogisticRegression\n",
    "\n",
    "model = LogisticRegression()\n",
    "model.fit(x_train, y_train)\n",
    "y_pred = model.predict(x_test)"
   ]
  },
  {
   "cell_type": "code",
   "execution_count": 53,
   "id": "b0ee0a1b",
   "metadata": {},
   "outputs": [
    {
     "data": {
      "image/png": "[encoded data removed]",
      "text/plain": [
       "<Figure size 720x720 with 2 Axes>"
      ]
     },
     "metadata": {
      "needs_background": "light"
     },
     "output_type": "display_data"
    }
   ],
   "source": [
    "from sklearn.metrics import confusion_matrix\n",
    "\n",
    "plt.rcParams['figure.figsize'] = (10,10)\n",
    "cm = confusion_matrix(y_test, y_pred)\n",
    "\n",
    "sns.heatmap(cm, annot = True, cmap = 'Wistia')\n",
    "plt.title('Confusion Matrix for Logistic Regression', fontsize = 15)\n",
    "\n",
    "plt.show()"
   ]
  },
  {
   "cell_type": "code",
   "execution_count": 55,
   "id": "d5723570",
   "metadata": {},
   "outputs": [
    {
     "data": {
      "text/html": [
       "<div>\n",
       "<style scoped>\n",
       "    .dataframe tbody tr th:only-of-type {\n",
       "        vertical-align: middle;\n",
       "    }\n",
       "\n",
       "    .dataframe tbody tr th {\n",
       "        vertical-align: top;\n",
       "    }\n",
       "\n",
       "    .dataframe thead th {\n",
       "        text-align: right;\n",
       "    }\n",
       "</style>\n",
       "<table border=\"1\" class=\"dataframe\">\n",
       "  <thead>\n",
       "    <tr style=\"text-align: right;\">\n",
       "      <th></th>\n",
       "      <th>N</th>\n",
       "      <th>P</th>\n",
       "      <th>K</th>\n",
       "      <th>temperature</th>\n",
       "      <th>humidity</th>\n",
       "      <th>ph</th>\n",
       "      <th>rainfall</th>\n",
       "      <th>label</th>\n",
       "    </tr>\n",
       "  </thead>\n",
       "  <tbody>\n",
       "    <tr>\n",
       "      <th>0</th>\n",
       "      <td>90</td>\n",
       "      <td>42</td>\n",
       "      <td>43</td>\n",
       "      <td>20.879744</td>\n",
       "      <td>82.002744</td>\n",
       "      <td>6.502985</td>\n",
       "      <td>202.935536</td>\n",
       "      <td>rice</td>\n",
       "    </tr>\n",
       "    <tr>\n",
       "      <th>1</th>\n",
       "      <td>85</td>\n",
       "      <td>58</td>\n",
       "      <td>41</td>\n",
       "      <td>21.770462</td>\n",
       "      <td>80.319644</td>\n",
       "      <td>7.038096</td>\n",
       "      <td>226.655537</td>\n",
       "      <td>rice</td>\n",
       "    </tr>\n",
       "    <tr>\n",
       "      <th>2</th>\n",
       "      <td>60</td>\n",
       "      <td>55</td>\n",
       "      <td>44</td>\n",
       "      <td>23.004459</td>\n",
       "      <td>82.320763</td>\n",
       "      <td>7.840207</td>\n",
       "      <td>263.964248</td>\n",
       "      <td>rice</td>\n",
       "    </tr>\n",
       "    <tr>\n",
       "      <th>3</th>\n",
       "      <td>74</td>\n",
       "      <td>35</td>\n",
       "      <td>40</td>\n",
       "      <td>26.491096</td>\n",
       "      <td>80.158363</td>\n",
       "      <td>6.980401</td>\n",
       "      <td>242.864034</td>\n",
       "      <td>rice</td>\n",
       "    </tr>\n",
       "    <tr>\n",
       "      <th>4</th>\n",
       "      <td>78</td>\n",
       "      <td>42</td>\n",
       "      <td>42</td>\n",
       "      <td>20.130175</td>\n",
       "      <td>81.604873</td>\n",
       "      <td>7.628473</td>\n",
       "      <td>262.717340</td>\n",
       "      <td>rice</td>\n",
       "    </tr>\n",
       "  </tbody>\n",
       "</table>\n",
       "</div>"
      ],
      "text/plain": [
       "    N   P   K  temperature   humidity        ph    rainfall label\n",
       "0  90  42  43    20.879744  82.002744  6.502985  202.935536  rice\n",
       "1  85  58  41    21.770462  80.319644  7.038096  226.655537  rice\n",
       "2  60  55  44    23.004459  82.320763  7.840207  263.964248  rice\n",
       "3  74  35  40    26.491096  80.158363  6.980401  242.864034  rice\n",
       "4  78  42  42    20.130175  81.604873  7.628473  262.717340  rice"
      ]
     },
     "execution_count": 55,
     "metadata": {},
     "output_type": "execute_result"
    }
   ],
   "source": [
    "data.head()"
   ]
  },
  {
   "cell_type": "code",
   "execution_count": 56,
   "id": "ee153979",
   "metadata": {},
   "outputs": [
    {
     "name": "stdout",
     "output_type": "stream",
     "text": [
      "Suggested Crop for given Climate Condition is : ['rice']\n"
     ]
    },
    {
     "name": "stderr",
     "output_type": "stream",
     "text": [
      "C:\\Users\\Daniya\\Anaconda3\\lib\\site-packages\\sklearn\\base.py:450: UserWarning: X does not have valid feature names, but LogisticRegression was fitted with feature names\n",
      "  warnings.warn(\n"
     ]
    }
   ],
   "source": [
    "prediction = model.predict((np.array([[90,\n",
    "                                      40,\n",
    "                                      40,\n",
    "                                      20,\n",
    "                                      80,\n",
    "                                      7,\n",
    "                                      200]])))\n",
    "\n",
    "print('Suggested Crop for given Climate Condition is :', prediction)"
   ]
  },
  {
   "cell_type": "code",
   "execution_count": null,
   "id": "e1810465",
   "metadata": {},
   "outputs": [],
   "source": []
  }
 ],
 "metadata": {
  "kernelspec": {
   "display_name": "Python 3 (ipykernel)",
   "language": "python",
   "name": "python3"
  },
  "language_info": {
   "codemirror_mode": {
    "name": "ipython",
    "version": 3
   },
   "file_extension": ".py",
   "mimetype": "text/x-python",
   "name": "python",
   "nbconvert_exporter": "python",
   "pygments_lexer": "ipython3",
   "version": "3.9.12"
  }
 },
 "nbformat": 4,
 "nbformat_minor": 5
}
